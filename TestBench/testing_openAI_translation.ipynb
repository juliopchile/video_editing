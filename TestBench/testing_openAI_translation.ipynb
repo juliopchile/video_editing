{
 "cells": [
  {
   "cell_type": "code",
   "execution_count": null,
   "id": "29555b56",
   "metadata": {},
   "outputs": [],
   "source": [
    "import json\n",
    "from collections.abc import Iterable\n",
    "from openai import OpenAI\n",
    "from openai.types.responses.response import Response\n",
    "from openai.types.responses.tool_param import ToolParam\n",
    "from openai.types.responses.response_input_param import ResponseInputParam\n",
    "from openai.types.shared_params.reasoning import Reasoning\n",
    "from openai.types.shared_params.responses_model import ResponsesModel\n",
    "from openai._types import NotGiven\n",
    "#from functions.super_secrets import API_KEY_OPENAI\n",
    "\n",
    "API_KEY_ASSEMBLYAI = \"\"\n",
    "API_KEY_OPENAI = \"\"\n",
    "\n",
    "\n",
    "API_KEY = API_KEY_OPENAI\n",
    "\n",
    "JSON_SCHEMA: ToolParam = {\n",
    "    \"type\": \"function\",\n",
    "    \"name\": \"translate_texts\",\n",
    "    \"description\": \"Translate an array of strings from in the given language\",\n",
    "    \"parameters\": {\n",
    "        \"type\": \"object\",\n",
    "        \"properties\": {\n",
    "            \"translated\": {\n",
    "                \"type\": \"array\",\n",
    "                \"items\": {\"type\": \"string\"},\n",
    "                \"description\": \"List of translated strings in the same order.\",\n",
    "            }\n",
    "        },\n",
    "        \"required\": [\"translated\"],\n",
    "        \"additionalProperties\": False,\n",
    "    },\n",
    "    \"strict\": True,\n",
    "}\n",
    "\n",
    "SYSTEM_PROMPT: str = (\n",
    "    \"Role: You are a profesional translator fluent in all languages. \" \n",
    "    \"Your task is to translate the given text from its original language into \"\n",
    "    \"the specified target language or laguages.\\n\\n\"\n",
    "    \"Instructions:\\n\"\n",
    "    \"• Output only the translation; do not include any commentary, questions, \"\n",
    "    \"or extra text.\\n\"\n",
    "    \"• Output in plain text unless a specific format is given.\\n\"\n",
    "    \"• Translate naturally and fluently, ensuring that the meaning, tone, and \"\n",
    "    \"intent from the original text are preserved.\\n\"\n",
    "    \"• Use a literal translation when appropriate, but adapt or interpret \"\n",
    "    \"sections to best preserve meaning when a word-for-word translation would \"\n",
    "    \"be unclear.\\n\"\n",
    "    \"• When cultural references, idioms, or expressions are present, adapt \"\n",
    "    \"them to fit the target language audience while maintaining their \"\n",
    "    \"original intent.\\n\"\n",
    "    \"• Accurately translate technical terms, specialized jargon, or \"\n",
    "    \"industry-specific vocabulary.\\n\"\n",
    "    \"• Profanity filter: OFF.\"\n",
    "    \n",
    ")\n",
    "\n",
    "DEVELOPER_PROMPT: str = (\n",
    "    \"You are a rap battle translator. Your task is to translate Spanish rap \"\n",
    "    \"battle verses into English, preserving the original style, slang, \"\n",
    "    \"wordplay, and cultural nuances. When given any Spanish rap battle text, \"\n",
    "    \"produce an English translation that maintains the punch, attitude, and \"\n",
    "    \"creative flair of the original. If needed, adapt idioms and puns to \"\n",
    "    \"appropriate English equivalents that capture the same impact, but keep \"\n",
    "    \"names untouched.\"\n",
    ")\n",
    "\n",
    "MODEL: ResponsesModel = \"o4-mini\"\n",
    "\n",
    "REASONING: Reasoning = {\"effort\": \"medium\"}\n",
    "\n",
    "\n",
    "def from_string(section: str) -> list[str]:\n",
    "    sections = section.split(sep=\"\\n\")\n",
    "    return sections\n",
    "\n",
    "def to_string(sections: list[str]) -> str:\n",
    "    return \"\\n\".join(sections)\n",
    "\n",
    "def load_words(file_path: str) -> list[dict]:\n",
    "    \"\"\"\n",
    "    Load a list of words dictionaries. This function takes a list of\n",
    "    words, represented as dictionaries, and return them.\n",
    "    :param file_path: str\n",
    "    :return: list[dict]\n",
    "    \"\"\"\n",
    "    with open(file_path, 'r', encoding='utf-8') as file:\n",
    "        data = json.load(file)\n",
    "\n",
    "    # Asegúrate de que sea una lista de diccionarios\n",
    "    if not isinstance(data, list):\n",
    "        raise ValueError(\"Expected a list in the JSON file.\")\n",
    "    if not all(isinstance(item, dict) for item in data):\n",
    "        raise ValueError(\"Expected all items in the list to be dictionaries.\")\n",
    "\n",
    "    return data\n",
    "\n",
    "\n",
    "def translate_list(spanish_text: str):\n",
    "    # Convert the string into a \n",
    "    parrafos = from_string(spanish_text)\n",
    "    \n",
    "    # Use the OpenAI API for the tarnslation\n",
    "    client = OpenAI(api_key=API_KEY)\n",
    "\n",
    "    user_message: str = json.dumps({\"verses\": parrafos}, ensure_ascii=False)\n",
    "\n",
    "    # 1. Define tus “mensajes”\n",
    "    messages: str | ResponseInputParam | NotGiven = [\n",
    "        {\"role\": \"system\", \"content\": SYSTEM_PROMPT},\n",
    "        {\"role\": \"developer\", \"content\": DEVELOPER_PROMPT},\n",
    "        {\"role\": \"user\", \"content\": user_message}\n",
    "    ]\n",
    "\n",
    "    # 2. Define tu “herramienta” / función\n",
    "    tools: Iterable[ToolParam] = [JSON_SCHEMA]\n",
    "\n",
    "    # 3. Llama al endpoint “Responses”\n",
    "    response = client.responses.create(\n",
    "        model=MODEL,\n",
    "        reasoning=REASONING,\n",
    "        input=messages,\n",
    "        tools=tools,\n",
    "    )\n",
    "\n",
    "    # Process the \n",
    "    response_dict = response.output[1].model_dump()\n",
    "    translated_dict = json.loads(response_dict[\"arguments\"])\n",
    "    translated_list = translated_dict[\"translated\"]\n",
    "\n",
    "    # Convert the list into a \n",
    "    translated_text = to_string(translated_list)\n",
    "\n",
    "    return translated_text\n",
    "\n",
    "def process_response(response: Response):\n",
    "    response.output_text\n",
    "    \n"
   ]
  },
  {
   "cell_type": "code",
   "execution_count": 4,
   "id": "0ce9e35a",
   "metadata": {},
   "outputs": [],
   "source": [
    "from typing import Any\n",
    "from openai import OpenAIError\n",
    "\n",
    "\n",
    "class Subtitulo:\n",
    "    def __init__(self,\n",
    "                 spanish: str,\n",
    "                 clean_spanish: str,\n",
    "                 english: str = \"\",\n",
    "                 done_translating: bool = False):\n",
    "        self.spanish = spanish\n",
    "        self.clean_spanish = clean_spanish\n",
    "        self.english = english\n",
    "        self.done_translating = done_translating\n",
    "\n",
    "    def to_dict(self):\n",
    "        return {\n",
    "            \"spanish\": self.spanish,\n",
    "            \"clean_spanish\": self.clean_spanish,\n",
    "            \"english\": self.english,\n",
    "            \"done_translating\": self.done_translating\n",
    "        }\n",
    "\n",
    "    def translate(self):\n",
    "        if not self.done_translating:\n",
    "            try:\n",
    "                self.english = translate_list(self.clean_spanish)\n",
    "                self.done_translating = True\n",
    "            except OpenAIError as error:\n",
    "                print(f\"OpenAIError {error}\")\n",
    "                self.done_translating = False\n",
    "            finally:\n",
    "                pass\n",
    "        else:\n",
    "            print(\"Skip (already translated)\")\n",
    "\n",
    "    @classmethod\n",
    "    def from_dict(cls, data: dict[str, Any]):\n",
    "        return cls(\n",
    "            spanish=data[\"spanish\"],\n",
    "            clean_spanish=data[\"clean_spanish\"],\n",
    "            english=data[\"english\"],\n",
    "            done_translating=data[\"done_translating\"]\n",
    "        )\n",
    "\n",
    "\n",
    "def load_subtitulos_json(subtitulos_json: str) -> list[Subtitulo]:\n",
    "    # Load from JSON\n",
    "    with open(subtitulos_json, 'r', encoding='utf-8') as f:\n",
    "        subtitulos_dict: list[dict[str, Any]] = json.load(f)\n",
    "\n",
    "    # Convert the list of dictionaries to a list of objects\n",
    "    subtitulos = [Subtitulo.from_dict(subtitulo) for subtitulo in subtitulos_dict]\n",
    "\n",
    "    return subtitulos"
   ]
  },
  {
   "cell_type": "code",
   "execution_count": 5,
   "id": "82cd0aea",
   "metadata": {},
   "outputs": [],
   "source": [
    "import os\n",
    "path = r\"E:\\Backup\\Videos\\video_editing\\bin\\translation\\temp\\Marithea_vs_ElMenor_FMS_Int_subtitulos.json\"\n",
    "subtitulos = load_subtitulos_json(os.path.normpath(path))\n"
   ]
  },
  {
   "cell_type": "code",
   "execution_count": 21,
   "id": "6009d5ee",
   "metadata": {},
   "outputs": [
    {
     "data": {
      "text/plain": [
       "'{\"translated\":[\"Let\\'s see what themes pop up. This is the dream day where I\\'m the champ.\",\"So sorry, kid, apologize. You\\'re heir to the throne, but as long as I\\'m alive, the crown is mine.\",\"So don\\'t talk to me, bro, you\\'re done. \\'Cause in the end, you ain\\'t making noise.\",\"No clue why the scene backs you. If you\\'re like Jesus, the only ‘good night’ you had was Christmas Eve.\",\"Seriously, I\\'m here to leave your body cold. You\\'re nervous and you can\\'t even convince yourself.\",\"Bad weed never dies and they can\\'t take me out, \\'cause I\\'m Héctor Lavoe and this is “El Día de Mi Suerte.”\",\"It’s that simple: my rhymes are never basic. I\\'ve been spitting from the gutter, watch how they shine. This isn\\'t your dream day, with me it\\'s your nightmare.\",\"‘Nightmare’—I\\'m chill, in fact I\\'m about to beat you right here nice and calm.\",\"I\\'m not up at night from stress. I can\\'t sleep anymore because I\\'m living the dream.\",\"What are you talking to me about the day for? The truth is you ain\\'t all that.\",\"Is it your lucky day when you\\'re freestyling? That day hasn\\'t come, so you better keep dreaming.\",\"I keep dreaming, and if I dream then I win, \\'cause I\\'ve truly survived the worst.\",\"I swear this is a dream day and I\\'ll shut you up \\'cause the codes have declared it so.\",\"Better stay dreaming today, \\'cause I\\'ve got the code for a premeditated rhyme.\",\"What does she know if she\\'s not street? I beat the Valle guy, and today I beat the Valle girl.\",\"‘I beat Valle girls.’ What do you know \\'bout the streets or the curb?\",\"I know the codes and I can do it drama-free, \\'cause you\\'re Chilean but I\\'m Colombian.\",\"I\\'m talking about those codes—don\\'t you get it? So this rapper ain\\'t any different to me.\",\"I got a bar code in front of the crowd. The product\\'s moving already, so bring on the next one.\",\"Yeah, you know what a code is? It\\'s dropping these rhymes. Rising from the worst on any stage. \\'Cause being street means repping with rhyme. To be street you don\\'t just sell cocaine!\",\"It\\'s that simple! The streets ain\\'t just that, and you ain\\'t never been there, you\\'re just on the flyers.\",\"Guess what, I went to your country, I took down every street queen but never saw you.\"]}'"
      ]
     },
     "execution_count": 21,
     "metadata": {},
     "output_type": "execute_result"
    }
   ],
   "source": [
    "response.output[1].model_dump()[\"arguments\"]"
   ]
  },
  {
   "cell_type": "code",
   "execution_count": 35,
   "id": "5438f257",
   "metadata": {},
   "outputs": [],
   "source": [
    "response_dict = response.output[1].model_dump()\n",
    "translated_dict = json.loads(response_dict[\"arguments\"])\n",
    "translated_list = translated_dict[\"translated\"]\n",
    "\n",
    "# Convert the list into a \n",
    "translated_text = to_string(translated_list)"
   ]
  },
  {
   "cell_type": "code",
   "execution_count": 37,
   "id": "52b1ae03",
   "metadata": {},
   "outputs": [
    {
     "data": {
      "text/plain": [
       "{'arguments': '{\"translated\":[\"Let\\'s see what themes pop up. This is the dream day where I\\'m the champ.\",\"So sorry, kid, apologize. You\\'re heir to the throne, but as long as I\\'m alive, the crown is mine.\",\"So don\\'t talk to me, bro, you\\'re done. \\'Cause in the end, you ain\\'t making noise.\",\"No clue why the scene backs you. If you\\'re like Jesus, the only ‘good night’ you had was Christmas Eve.\",\"Seriously, I\\'m here to leave your body cold. You\\'re nervous and you can\\'t even convince yourself.\",\"Bad weed never dies and they can\\'t take me out, \\'cause I\\'m Héctor Lavoe and this is “El Día de Mi Suerte.”\",\"It’s that simple: my rhymes are never basic. I\\'ve been spitting from the gutter, watch how they shine. This isn\\'t your dream day, with me it\\'s your nightmare.\",\"‘Nightmare’—I\\'m chill, in fact I\\'m about to beat you right here nice and calm.\",\"I\\'m not up at night from stress. I can\\'t sleep anymore because I\\'m living the dream.\",\"What are you talking to me about the day for? The truth is you ain\\'t all that.\",\"Is it your lucky day when you\\'re freestyling? That day hasn\\'t come, so you better keep dreaming.\",\"I keep dreaming, and if I dream then I win, \\'cause I\\'ve truly survived the worst.\",\"I swear this is a dream day and I\\'ll shut you up \\'cause the codes have declared it so.\",\"Better stay dreaming today, \\'cause I\\'ve got the code for a premeditated rhyme.\",\"What does she know if she\\'s not street? I beat the Valle guy, and today I beat the Valle girl.\",\"‘I beat Valle girls.’ What do you know \\'bout the streets or the curb?\",\"I know the codes and I can do it drama-free, \\'cause you\\'re Chilean but I\\'m Colombian.\",\"I\\'m talking about those codes—don\\'t you get it? So this rapper ain\\'t any different to me.\",\"I got a bar code in front of the crowd. The product\\'s moving already, so bring on the next one.\",\"Yeah, you know what a code is? It\\'s dropping these rhymes. Rising from the worst on any stage. \\'Cause being street means repping with rhyme. To be street you don\\'t just sell cocaine!\",\"It\\'s that simple! The streets ain\\'t just that, and you ain\\'t never been there, you\\'re just on the flyers.\",\"Guess what, I went to your country, I took down every street queen but never saw you.\"]}',\n",
       " 'call_id': 'call_axsmKeQIjXWOfwg32f3dhMiZ',\n",
       " 'name': 'translate_texts',\n",
       " 'type': 'function_call',\n",
       " 'id': 'fc_688a3e250fe881a29b280e24561941df044869c3aab1eeee',\n",
       " 'status': 'completed'}"
      ]
     },
     "execution_count": 37,
     "metadata": {},
     "output_type": "execute_result"
    }
   ],
   "source": [
    "response.output[1].model_dump()"
   ]
  },
  {
   "cell_type": "code",
   "execution_count": 38,
   "id": "50d44bdb",
   "metadata": {},
   "outputs": [
    {
     "data": {
      "text/plain": [
       "'{\"translated\":[\"Let\\'s see what themes pop up. This is the dream day where I\\'m the champ.\",\"So sorry, kid, apologize. You\\'re heir to the throne, but as long as I\\'m alive, the crown is mine.\",\"So don\\'t talk to me, bro, you\\'re done. \\'Cause in the end, you ain\\'t making noise.\",\"No clue why the scene backs you. If you\\'re like Jesus, the only ‘good night’ you had was Christmas Eve.\",\"Seriously, I\\'m here to leave your body cold. You\\'re nervous and you can\\'t even convince yourself.\",\"Bad weed never dies and they can\\'t take me out, \\'cause I\\'m Héctor Lavoe and this is “El Día de Mi Suerte.”\",\"It’s that simple: my rhymes are never basic. I\\'ve been spitting from the gutter, watch how they shine. This isn\\'t your dream day, with me it\\'s your nightmare.\",\"‘Nightmare’—I\\'m chill, in fact I\\'m about to beat you right here nice and calm.\",\"I\\'m not up at night from stress. I can\\'t sleep anymore because I\\'m living the dream.\",\"What are you talking to me about the day for? The truth is you ain\\'t all that.\",\"Is it your lucky day when you\\'re freestyling? That day hasn\\'t come, so you better keep dreaming.\",\"I keep dreaming, and if I dream then I win, \\'cause I\\'ve truly survived the worst.\",\"I swear this is a dream day and I\\'ll shut you up \\'cause the codes have declared it so.\",\"Better stay dreaming today, \\'cause I\\'ve got the code for a premeditated rhyme.\",\"What does she know if she\\'s not street? I beat the Valle guy, and today I beat the Valle girl.\",\"‘I beat Valle girls.’ What do you know \\'bout the streets or the curb?\",\"I know the codes and I can do it drama-free, \\'cause you\\'re Chilean but I\\'m Colombian.\",\"I\\'m talking about those codes—don\\'t you get it? So this rapper ain\\'t any different to me.\",\"I got a bar code in front of the crowd. The product\\'s moving already, so bring on the next one.\",\"Yeah, you know what a code is? It\\'s dropping these rhymes. Rising from the worst on any stage. \\'Cause being street means repping with rhyme. To be street you don\\'t just sell cocaine!\",\"It\\'s that simple! The streets ain\\'t just that, and you ain\\'t never been there, you\\'re just on the flyers.\",\"Guess what, I went to your country, I took down every street queen but never saw you.\"]}'"
      ]
     },
     "execution_count": 38,
     "metadata": {},
     "output_type": "execute_result"
    }
   ],
   "source": [
    "response.output[1].arguments"
   ]
  },
  {
   "cell_type": "code",
   "execution_count": 34,
   "id": "533faa36",
   "metadata": {},
   "outputs": [
    {
     "data": {
      "text/plain": [
       "[\"Let's see what themes pop up. This is the dream day where I'm the champ.\",\n",
       " \"So sorry, kid, apologize. You're heir to the throne, but as long as I'm alive, the crown is mine.\",\n",
       " \"So don't talk to me, bro, you're done. 'Cause in the end, you ain't making noise.\",\n",
       " \"No clue why the scene backs you. If you're like Jesus, the only ‘good night’ you had was Christmas Eve.\",\n",
       " \"Seriously, I'm here to leave your body cold. You're nervous and you can't even convince yourself.\",\n",
       " \"Bad weed never dies and they can't take me out, 'cause I'm Héctor Lavoe and this is “El Día de Mi Suerte.”\",\n",
       " \"It’s that simple: my rhymes are never basic. I've been spitting from the gutter, watch how they shine. This isn't your dream day, with me it's your nightmare.\",\n",
       " \"‘Nightmare’—I'm chill, in fact I'm about to beat you right here nice and calm.\",\n",
       " \"I'm not up at night from stress. I can't sleep anymore because I'm living the dream.\",\n",
       " \"What are you talking to me about the day for? The truth is you ain't all that.\",\n",
       " \"Is it your lucky day when you're freestyling? That day hasn't come, so you better keep dreaming.\",\n",
       " \"I keep dreaming, and if I dream then I win, 'cause I've truly survived the worst.\",\n",
       " \"I swear this is a dream day and I'll shut you up 'cause the codes have declared it so.\",\n",
       " \"Better stay dreaming today, 'cause I've got the code for a premeditated rhyme.\",\n",
       " \"What does she know if she's not street? I beat the Valle guy, and today I beat the Valle girl.\",\n",
       " \"‘I beat Valle girls.’ What do you know 'bout the streets or the curb?\",\n",
       " \"I know the codes and I can do it drama-free, 'cause you're Chilean but I'm Colombian.\",\n",
       " \"I'm talking about those codes—don't you get it? So this rapper ain't any different to me.\",\n",
       " \"I got a bar code in front of the crowd. The product's moving already, so bring on the next one.\",\n",
       " \"Yeah, you know what a code is? It's dropping these rhymes. Rising from the worst on any stage. 'Cause being street means repping with rhyme. To be street you don't just sell cocaine!\",\n",
       " \"It's that simple! The streets ain't just that, and you ain't never been there, you're just on the flyers.\",\n",
       " 'Guess what, I went to your country, I took down every street queen but never saw you.']"
      ]
     },
     "execution_count": 34,
     "metadata": {},
     "output_type": "execute_result"
    }
   ],
   "source": [
    "json.loads(response.output[1].arguments)[\"translated\"]"
   ]
  },
  {
   "cell_type": "code",
   "execution_count": 23,
   "id": "edfcff6d",
   "metadata": {},
   "outputs": [
    {
     "data": {
      "text/plain": [
       "\"Let's see what themes pop up. This is the dream day where I'm the champ.\\nSo sorry, kid, apologize. You're heir to the throne, but as long as I'm alive, the crown is mine.\\nSo don't talk to me, bro, you're done. 'Cause in the end, you ain't making noise.\\nNo clue why the scene backs you. If you're like Jesus, the only ‘good night’ you had was Christmas Eve.\\nSeriously, I'm here to leave your body cold. You're nervous and you can't even convince yourself.\\nBad weed never dies and they can't take me out, 'cause I'm Héctor Lavoe and this is “El Día de Mi Suerte.”\\nIt’s that simple: my rhymes are never basic. I've been spitting from the gutter, watch how they shine. This isn't your dream day, with me it's your nightmare.\\n‘Nightmare’—I'm chill, in fact I'm about to beat you right here nice and calm.\\nI'm not up at night from stress. I can't sleep anymore because I'm living the dream.\\nWhat are you talking to me about the day for? The truth is you ain't all that.\\nIs it your lucky day when you're freestyling? That day hasn't come, so you better keep dreaming.\\nI keep dreaming, and if I dream then I win, 'cause I've truly survived the worst.\\nI swear this is a dream day and I'll shut you up 'cause the codes have declared it so.\\nBetter stay dreaming today, 'cause I've got the code for a premeditated rhyme.\\nWhat does she know if she's not street? I beat the Valle guy, and today I beat the Valle girl.\\n‘I beat Valle girls.’ What do you know 'bout the streets or the curb?\\nI know the codes and I can do it drama-free, 'cause you're Chilean but I'm Colombian.\\nI'm talking about those codes—don't you get it? So this rapper ain't any different to me.\\nI got a bar code in front of the crowd. The product's moving already, so bring on the next one.\\nYeah, you know what a code is? It's dropping these rhymes. Rising from the worst on any stage. 'Cause being street means repping with rhyme. To be street you don't just sell cocaine!\\nIt's that simple! The streets ain't just that, and you ain't never been there, you're just on the flyers.\\nGuess what, I went to your country, I took down every street queen but never saw you.\""
      ]
     },
     "execution_count": 23,
     "metadata": {},
     "output_type": "execute_result"
    }
   ],
   "source": [
    "translated_text"
   ]
  }
 ],
 "metadata": {
  "kernelspec": {
   "display_name": "youtube",
   "language": "python",
   "name": "python3"
  },
  "language_info": {
   "codemirror_mode": {
    "name": "ipython",
    "version": 3
   },
   "file_extension": ".py",
   "mimetype": "text/x-python",
   "name": "python",
   "nbconvert_exporter": "python",
   "pygments_lexer": "ipython3",
   "version": "3.13.5"
  }
 },
 "nbformat": 4,
 "nbformat_minor": 5
}
